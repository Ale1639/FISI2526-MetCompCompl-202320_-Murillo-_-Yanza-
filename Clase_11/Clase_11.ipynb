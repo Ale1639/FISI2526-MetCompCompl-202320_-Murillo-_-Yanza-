{
 "cells": [
  {
   "cell_type": "markdown",
   "metadata": {},
   "source": [
    "## Repaso Matrices - Taller 3\n",
    "\n",
    "Este taller debe ser entregado a más tardar el viernes 3 de noviembre a medianoche (11:59pm)."
   ]
  },
  {
   "cell_type": "code",
   "execution_count": 313,
   "metadata": {},
   "outputs": [],
   "source": [
    "#Samuel Murillo Herrera - Alejandra María Yanza Gaviria\n",
    "import numpy as np"
   ]
  },
  {
   "cell_type": "markdown",
   "metadata": {},
   "source": [
    "### 1. Multiplicación de matrices\n",
    "\n",
    "**[20 pts]** Construya el algoritmo de multiplicación de matrices y encuentre el resultado de las siguientes operaciones.\n",
    "\n",
    "a.\n",
    "\n",
    " <img src ='./img/matrix1.png' width=200px>\n",
    "\n",
    " b.\n",
    " \n",
    "  <img src ='./img/matrix2.png' width=200px>\n",
    "\n",
    "  c. \n",
    "\n",
    "  <img src ='./img/matrix3.png' width=200px>\n",
    "\n",
    "  **[10 pts]** Utilizando dos matrices cuadradas, demuestre que la multiplicación no es conmutativa."
   ]
  },
  {
   "cell_type": "code",
   "execution_count": 314,
   "metadata": {},
   "outputs": [],
   "source": [
    "A1=np.array([[5,-4,-2],\n",
    "             [5,-5,4],\n",
    "             [2,5,-4],\n",
    "             [-5,4,3],\n",
    "             [3,-4,-3]])\n",
    "B1=np.array([5,-2,-3])\n",
    "\n",
    "A2=np.array([[0,-1,-1,3],\n",
    "             [5,-5,-2,2],\n",
    "             [1,0,4,5]])\n",
    "B2=np.array([[0,-3],\n",
    "             [-2,-1],\n",
    "             [3,-3]])\n",
    "\n",
    "A3=np.array([[2,-5,5,1],\n",
    "             [5,2,-7,-6],\n",
    "             [-6,-1,7,-4],\n",
    "             [5,4,1,-5]])\n",
    "B3=np.array([[0,4,-7,1,-6],\n",
    "             [-1,-6,-5,1,1],\n",
    "             [2,-1,-6,5,-5],\n",
    "             [-3,-6,6,3,5]])"
   ]
  },
  {
   "cell_type": "code",
   "execution_count": 315,
   "metadata": {},
   "outputs": [],
   "source": [
    "def MatrixMultiplication (A,B):\n",
    "    mxn=np.shape(A)\n",
    "    nxp=np.shape(B)\n",
    "    \n",
    "    if len(nxp)==1:\n",
    "        C=np.zeros((mxn[0]))\n",
    "        for i in range(0,mxn[0]):\n",
    "            C[i]=np.dot(A[i,:],B)\n",
    "    \n",
    "    elif len(mxn)==1:\n",
    "        C=np.zeros((mxn[0]))\n",
    "        for i in range(0,mxn[0]):\n",
    "            C[i]=np.dot(A,B[:,i])\n",
    "\n",
    "    elif mxn[1]==nxp[0]:\n",
    "        C=np.zeros((mxn[0],nxp[1]))\n",
    "        for i in range(0,mxn[0]):\n",
    "            for j in range(0,nxp[1]):\n",
    "                C[i,j]=np.dot(A[i,:],B[:,j])\n",
    "\n",
    "    else:\n",
    "        return \"Dimensiones incorrectas\"\n",
    "    return C"
   ]
  },
  {
   "cell_type": "code",
   "execution_count": 316,
   "metadata": {},
   "outputs": [
    {
     "data": {
      "text/plain": [
       "array([ 39.,  23.,  12., -42.,  32.])"
      ]
     },
     "execution_count": 316,
     "metadata": {},
     "output_type": "execute_result"
    }
   ],
   "source": [
    "MatrixMultiplication(A1,B1)\n"
   ]
  },
  {
   "cell_type": "code",
   "execution_count": 317,
   "metadata": {},
   "outputs": [
    {
     "data": {
      "text/plain": [
       "'Dimensiones incorrectas'"
      ]
     },
     "execution_count": 317,
     "metadata": {},
     "output_type": "execute_result"
    }
   ],
   "source": [
    "MatrixMultiplication(A2,B2)"
   ]
  },
  {
   "cell_type": "code",
   "execution_count": 318,
   "metadata": {},
   "outputs": [
    {
     "data": {
      "text/plain": [
       "array([[ 12.,  27., -13.,  25., -37.],\n",
       "       [  2.,  51., -39., -46., -23.],\n",
       "       [ 27.,  -1., -19.,  16., -20.],\n",
       "       [ 13.,  25., -91.,  -1., -56.]])"
      ]
     },
     "execution_count": 318,
     "metadata": {},
     "output_type": "execute_result"
    }
   ],
   "source": [
    "MatrixMultiplication(A3,B3)"
   ]
  },
  {
   "cell_type": "markdown",
   "metadata": {},
   "source": [
    "Para dos matrices cuadradas de puede que ver que no se cumple AB=BA"
   ]
  },
  {
   "cell_type": "code",
   "execution_count": 319,
   "metadata": {},
   "outputs": [],
   "source": [
    "A=np.array([[2,-5,5,1],\n",
    "             [5,2,-7,-6],\n",
    "             [-6,-1,7,-4],\n",
    "             [5,4,1,-5]])\n",
    "B=np.array([[1,2,3,1],\n",
    "             [1,2,3,-6],\n",
    "             [1,2,3,-4],\n",
    "             [5,4,1,-5]])"
   ]
  },
  {
   "cell_type": "code",
   "execution_count": 320,
   "metadata": {},
   "outputs": [
    {
     "data": {
      "text/plain": [
       "array([[  7.,   8.,   7.,   7.],\n",
       "       [-30., -24.,  -6.,  51.],\n",
       "       [-20., -16.,  -4.,  -8.],\n",
       "       [-15.,   0.,  25.,   2.]])"
      ]
     },
     "execution_count": 320,
     "metadata": {},
     "output_type": "execute_result"
    }
   ],
   "source": [
    "MatrixMultiplication(A,B)"
   ]
  },
  {
   "cell_type": "code",
   "execution_count": 321,
   "metadata": {},
   "outputs": [
    {
     "data": {
      "text/plain": [
       "array([[ -1.,   0.,  13., -28.],\n",
       "       [-36., -28.,   6.,   7.],\n",
       "       [-26., -20.,   8.,  -3.],\n",
       "       [ -1., -38.,  -1.,   2.]])"
      ]
     },
     "execution_count": 321,
     "metadata": {},
     "output_type": "execute_result"
    }
   ],
   "source": [
    "MatrixMultiplication(B,A)"
   ]
  },
  {
   "cell_type": "markdown",
   "metadata": {},
   "source": [
    "En efecto, la multiplicación de matrices no es conmutativa"
   ]
  },
  {
   "cell_type": "markdown",
   "metadata": {},
   "source": [
    "### 2. Reducción gaussiana\n",
    "**[40 pts]** Utilizando el algoritmo de reducción Gaussiana, resuelva los siguientes sistemas de ecuaciones:\n",
    "\n",
    "a.\n",
    "\n",
    " <img src ='./img/gaussian1.png' width=300px align=center>\n",
    "\n",
    " b.\n",
    "\n",
    " <img src ='./img/gaussian2.png' width=300px>"
   ]
  },
  {
   "cell_type": "code",
   "execution_count": 322,
   "metadata": {},
   "outputs": [],
   "source": [
    "A1=np.array([[3,1,-1],\n",
    "             [1,-2,1],\n",
    "             [4,-1,1]])\n",
    "b1=np.array([2,0,3])\n",
    "\n",
    "A2=np.array([[1,1,1],\n",
    "             [0,-8,10],\n",
    "             [4,-8,0]])\n",
    "b2=np.array([0,0,6])"
   ]
  },
  {
   "cell_type": "code",
   "execution_count": 323,
   "metadata": {},
   "outputs": [],
   "source": [
    "def gaussian_elimination(A: np.array,b: np.array):\n",
    "    n = np.shape(A)[0]\n",
    "    M = np.zeros(shape=(n,n+1))\n",
    "    M[:,0:n] = A\n",
    "    M[:,n] = b\n",
    "    for i in range (1,n):\n",
    "        for j in range(0,i):\n",
    "            C=(M[i,j]/M[j,j])\n",
    "            M[i,:]=M[i,:]-C*M[j,:]\n",
    "    return M\n",
    "\n",
    "def gaussian_Complete_elimination (M: np.array):\n",
    "    n=np.shape(M)[0]\n",
    "    Sol=np.zeros([n])\n",
    "    for i in range (0,n):\n",
    "        s=M[n-i-1,n]/M[n-i-1,n-i-1]\n",
    "        for j in range (0,n):\n",
    "            s-=M[n-i-1,n-j-1]*Sol[j]/M[n-i-1,n-i-1]\n",
    "        Sol[i]=s\n",
    "    return Sol[::-1]"
   ]
  },
  {
   "cell_type": "code",
   "execution_count": 324,
   "metadata": {},
   "outputs": [],
   "source": [
    "def linalg_solve (A:np.array,b:np.array):\n",
    "    return gaussian_Complete_elimination(gaussian_elimination(A,b))"
   ]
  },
  {
   "cell_type": "code",
   "execution_count": 325,
   "metadata": {},
   "outputs": [
    {
     "data": {
      "text/plain": [
       "array([0.71428571, 0.85714286, 1.        ])"
      ]
     },
     "execution_count": 325,
     "metadata": {},
     "output_type": "execute_result"
    }
   ],
   "source": [
    "linalg_solve(A1,b1)"
   ]
  },
  {
   "cell_type": "code",
   "execution_count": 326,
   "metadata": {},
   "outputs": [
    {
     "data": {
      "text/plain": [
       "array([ 0.71052632, -0.39473684, -0.31578947])"
      ]
     },
     "execution_count": 326,
     "metadata": {},
     "output_type": "execute_result"
    }
   ],
   "source": [
    "linalg_solve(A2,b2)"
   ]
  },
  {
   "cell_type": "markdown",
   "metadata": {},
   "source": [
    "### 3. Valores y vectores propios\n",
    "\n",
    "**[30 pts]** Un sistema de tres osciladores acoplados, tiene las siguientes ecuaciones de movimiento:\n",
    "\n",
    "<img src='./img/eqmotion.png' width=200>\n",
    "\n",
    "Al reemplazar $x_1=c_1e^{i\\omega t},x_2=c_2e^{i\\omega t},x_3=c_3e^{i\\omega t}$ se obtienen las siguientes ecuaciones algebraicas\n",
    "\n",
    "<img src='./img/algeq.png'  width=200>\n",
    "\n",
    "Para encontrar las frecuencias, se puede pensar lo anterior como un problema de valor propio regido por la ecuación\n",
    "\n",
    "$M\\vec{v} = -\\omega^2 \\vec{v}$\n",
    "\n",
    "donde $\\vec{v}$ es el vector de amplitudes $c_1,c_2,c_3$ y $-\\omega^2$ los valores propios. Utilizando el método de la potencia, encuentre la frecuencia máxima y mínima de oscilación del sistema y sus amplitudes asociadas para cada caso (modo normal). En su solución pruebe $k_{11}=k_{22}=k_{33}=-2\\kappa, k_{12}=k_{21}=k_{23}=k_{32}=\\kappa, k_{13}=k_{31}=0$.\n",
    "\n",
    "\n"
   ]
  },
  {
   "cell_type": "code",
   "execution_count": 327,
   "metadata": {},
   "outputs": [],
   "source": [
    "k=1\n",
    "m1=1\n",
    "m2=1\n",
    "m3=1\n",
    "H1=np.array([[-2*k/m1,k/m1,0/m1],\n",
    "             [k/m2,-2*k/m2,k/m2],\n",
    "             [0/m3,k/m3,-2*k/m3]])\n",
    "Z=np.array([1,1,1])"
   ]
  },
  {
   "cell_type": "code",
   "execution_count": 328,
   "metadata": {},
   "outputs": [],
   "source": [
    "def Metodo_potencia (A,Z,k):\n",
    "    for i in range(0,k):\n",
    "        Z=Z/(np.sqrt(np.matmul(Z.T,Z)))\n",
    "        Z=np.matmul(A,Z)\n",
    "    W=Z/(np.sqrt(np.matmul(Z.T,Z)))   \n",
    "    Vpropio=np.matmul(W.T,np.matmul(A,W))\n",
    "    return Vpropio,W"
   ]
  },
  {
   "cell_type": "code",
   "execution_count": 329,
   "metadata": {},
   "outputs": [],
   "source": [
    "P1=Metodo_potencia(H1,Z,30)\n",
    "ValorPropioMax=P1[0]\n",
    "VectorPropioMax=P1[1]\n",
    "P2=Metodo_potencia(np.linalg.inv(H1),Z,20)\n",
    "ValorPropioMin=(P2[0])**-1\n",
    "VectorPropioMin=P2[1]"
   ]
  },
  {
   "cell_type": "code",
   "execution_count": 330,
   "metadata": {},
   "outputs": [
    {
     "name": "stdout",
     "output_type": "stream",
     "text": [
      "-3.414213562373095 [ 0.5        -0.70710678  0.5       ] -0.585786437626905 [0.5        0.70710678 0.5       ]\n"
     ]
    }
   ],
   "source": [
    "print(ValorPropioMax,VectorPropioMax,ValorPropioMin,VectorPropioMin)"
   ]
  }
 ],
 "metadata": {
  "kernelspec": {
   "display_name": "Python 3",
   "language": "python",
   "name": "python3"
  },
  "language_info": {
   "codemirror_mode": {
    "name": "ipython",
    "version": 3
   },
   "file_extension": ".py",
   "mimetype": "text/x-python",
   "name": "python",
   "nbconvert_exporter": "python",
   "pygments_lexer": "ipython3",
   "version": "3.10.6"
  }
 },
 "nbformat": 4,
 "nbformat_minor": 2
}
