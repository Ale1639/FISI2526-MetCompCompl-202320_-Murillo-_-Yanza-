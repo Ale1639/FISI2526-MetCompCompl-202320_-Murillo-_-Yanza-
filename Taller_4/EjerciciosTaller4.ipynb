{
 "cells": [
  {
   "cell_type": "code",
   "execution_count": 26,
   "metadata": {},
   "outputs": [],
   "source": [
    "#Samuel Murillo Herrera 202223679\n",
    "#Alejandra María Yanza Gavíria 202225512\n",
    "import numpy as np\n",
    "import random\n",
    "import matplotlib.pyplot as plt\n",
    "import sympy as sp"
   ]
  },
  {
   "cell_type": "markdown",
   "metadata": {},
   "source": [
    "1. Calculo de probabilidad"
   ]
  },
  {
   "cell_type": "markdown",
   "metadata": {},
   "source": [
    "1. Se reparten cartas, una a la vez, de una baraja de 52 cartas.\n"
   ]
  },
  {
   "cell_type": "markdown",
   "metadata": {},
   "source": [
    "a) Si las primeras 2 cartas son espadas, ¿cuál es la probabilidad de que las siguientes 3 cartas también\n",
    "sean espadas?\n",
    "b) Si las primeras 3 cartas son todas de espadas, ¿cuál es la probabilidad de que las 2 cartas siguientes\n",
    "sean también espadas?\n",
    "c) Si las primeras 4 cartas son todas de espadas, ¿cuál es la probabilidad de que la siguiente carta sea\n",
    "también una espada?"
   ]
  },
  {
   "cell_type": "code",
   "execution_count": 27,
   "metadata": {},
   "outputs": [
    {
     "name": "stdout",
     "output_type": "stream",
     "text": [
      "0.008362\n",
      "0.038228\n",
      "0.188008\n"
     ]
    }
   ],
   "source": [
    "N=500000\n",
    "eventoa=0\n",
    "eventob=0\n",
    "eventoc=0\n",
    "cartas = np.array([1.,2.,3.,4.,\n",
    "                    5.,6.,7.,8.,\n",
    "                    9.,10.,11.,12.,\n",
    "                    13.,14.,15.,16.,\n",
    "                    17.,18.,19.,20.,\n",
    "                    21.,22.,23.,24.,\n",
    "                    25.,26.,27.,28.,\n",
    "                    29.,30.,31.,32.,\n",
    "                    33.,34.,35.,36.,\n",
    "                    37.,38.,39.,40.,\n",
    "                    41.,42.,43.,44.,\n",
    "                    45.,46.,47.,48.,\n",
    "                    49.,50.,51.,52.])\n",
    "cartas1 = np.delete(cartas, [0,4])\n",
    "cartas2 = np.delete(cartas, [0,4,8])\n",
    "cartas3 = np.delete(cartas, [0,4,8,12])\n",
    "for i in range(N):\n",
    "    #print(cartas)\n",
    "    np.random.shuffle(cartas1)\n",
    "    cartas_tomo = cartas1[:3]\n",
    "    num_espadasa=0\n",
    "    for c in cartas_tomo:\n",
    "        if c%4==1:\n",
    "            num_espadasa+=1\n",
    "    if num_espadasa == 3:\n",
    "        eventoa+=1\n",
    "\n",
    "for i in range(N):\n",
    "    #print(cartas)\n",
    "    np.random.shuffle(cartas2)\n",
    "    cartas_tomo = cartas2[:2]\n",
    "    num_espadasb=0\n",
    "    for c in cartas_tomo:\n",
    "        if c%4==1:\n",
    "            num_espadasb+=1\n",
    "    if num_espadasb == 2:\n",
    "        eventob+=1\n",
    "for i in range(N):\n",
    "    #print(cartas)\n",
    "    np.random.shuffle(cartas3)\n",
    "    cartas_tomo = cartas3[:1]\n",
    "    num_espadasc=0\n",
    "    for c in cartas_tomo:\n",
    "        if c%4==1:\n",
    "            num_espadasc+=1\n",
    "    if num_espadasc == 1:\n",
    "        eventoc+=1\n",
    "print(eventoa/N) #a\n",
    "print(eventob/N) #b\n",
    "print(eventoc/N) #c"
   ]
  },
  {
   "cell_type": "markdown",
   "metadata": {},
   "source": [
    "2) Suponga que la probabilidad de exposición a la gripe durante una epidemia es .6. La experiencia ha\n",
    "demostrado que un suero tiene 80 % de éxito para prevenir que una persona inoculada contraiga la gripe\n",
    "si se expone a ella. Una persona no inoculada enfrenta una probabilidad de ,90 de contraer la gripe si se\n",
    "expone a ella. Dos personas, una inoculada y otra no, realizan un trabajo altamente especializado en un\n",
    "negocio. Suponga que no están en el mismo lugar, no están en contacto con las mismas personas y no\n",
    "pueden contagiarse entre sí a la gripe. ¿Cuál es la probabilidad de que al menos una de ellas se enferme?\n"
   ]
  },
  {
   "cell_type": "code",
   "execution_count": 28,
   "metadata": {},
   "outputs": [
    {
     "name": "stdout",
     "output_type": "stream",
     "text": [
      "0.5526\n"
     ]
    }
   ],
   "source": [
    "N=10000\n",
    "eventos=np.zeros((int(N*.6),2))\n",
    "cuenta=0\n",
    "posiciones0=random.sample(range(int(N*.6)),int(N*.6*.2))\n",
    "posiciones1=random.sample(range(int(N*.6)),int(N*.6*.9))\n",
    "for i in posiciones0:\n",
    "    eventos[i][0]=1\n",
    "for i in posiciones1:\n",
    "    eventos[i][1]=1\n",
    "for i in eventos:\n",
    "    if np.sum(i) >= 1:\n",
    "        cuenta+=1\n",
    "        #print(i)\n",
    "#print(cuenta)    \n",
    "print(cuenta/N)\n",
    "\n"
   ]
  },
  {
   "cell_type": "markdown",
   "metadata": {},
   "source": [
    "2. Distribuciones de probabilidad discretas\n",
    " 1. El muestreo de piezas defectuosas de grandes lotes de productos manufacturados da un número de\n",
    "piezas defectuosas, Y , que sigue una distribución de probabilidad binomial. Un plan de muestreo consiste\n",
    "en especificar el número de piezas n por incluirse en una muestra y un número de aceptación a. El\n",
    "lote es aceptado si Y ≤ a y rechazado si Y > a. Denote con p la proporción de piezas defectuosas del\n",
    "lote. Un ingeniero de control de calidad desea estudiar planes de muestreo alternativos: n = 5, a = 1 y\n",
    "n = 25, a = 5. Construya las curvas características de operación para ambos planes, haciendo uso de\n",
    "probabilidades de aceptación en el rango p ∈ [0, 1].\n"
   ]
  },
  {
   "cell_type": "code",
   "execution_count": 29,
   "metadata": {},
   "outputs": [
    {
     "data": {
      "text/plain": [
       "<matplotlib.legend.Legend at 0x1a9fefa3280>"
      ]
     },
     "execution_count": 29,
     "metadata": {},
     "output_type": "execute_result"
    },
    {
     "data": {
      "image/png": "[encoded data removed]",
      "text/plain": [
       "<Figure size 640x480 with 1 Axes>"
      ]
     },
     "metadata": {},
     "output_type": "display_data"
    }
   ],
   "source": [
    "N=500\n",
    "p=np.linspace(0,1,500)\n",
    "C5P=np.array([])\n",
    "C25P=np.array([])\n",
    "for i in p:\n",
    "    C5=np.random.binomial(5,i,N)\n",
    "    C5p=0\n",
    "    C25=np.random.binomial(25,i,N)\n",
    "    C25p=0\n",
    "\n",
    "    for j in C5:\n",
    "        if j <= 1:\n",
    "            C5p+=1\n",
    "    C5p/=N\n",
    "    C5P=np.append(C5P,C5p)\n",
    "\n",
    "    for j in C25:\n",
    "        if j <= 5:\n",
    "            C25p+=1\n",
    "    C25p/=N\n",
    "    C25P=np.append(C25P,C25p)\n",
    "#print(C5P)\n",
    "#print(C25P)\n",
    "plt.plot(p,C5P,label=\"n5-a1\")\n",
    "plt.plot(p,C25P,label=\"n25-a5\")\n",
    "plt.legend()\n"
   ]
  },
  {
   "cell_type": "markdown",
   "metadata": {},
   "source": [
    "a) Si usted fuera un vendedor que produce lotes con una fracción defectuosa que va de p = 0 a p = ,10,\n",
    "¿cuál de los dos planes de muestreo preferiría?\n",
    "\n",
    "Preferiría n=25 y a=5 #Más lotes pasan y por lo tanto son vendidos\n",
    "\n",
    "b) Si usted fuera un comprador que desea protegerse contra la aceptación de lotes con una fracción\n",
    "defectuosa que exceda de p = ,30, ¿cuál de los dos planes de muestreo preferiría?\n",
    "\n",
    "Preferiría n=25 y a=5 #Más lotes se descartan por fracciones defectuosas a comparación de la otra que es más laxa\n"
   ]
  },
  {
   "cell_type": "markdown",
   "metadata": {},
   "source": [
    "2. El número de desconexiones del servidor de una companía sigue una distribución de Poisson con una\n",
    "tasa de una desconexión cada 4 horas."
   ]
  },
  {
   "cell_type": "markdown",
   "metadata": {},
   "source": [
    "a) Encuentre el menor valor de n tal que la probabilidad de que haya al menos n desconexiones en\n",
    "menos de un período de 4 horas es menor que 0.01."
   ]
  },
  {
   "cell_type": "code",
   "execution_count": 30,
   "metadata": {},
   "outputs": [
    {
     "name": "stdout",
     "output_type": "stream",
     "text": [
      "0.0036 4\n",
      "El menor n es: 4\n"
     ]
    },
    {
     "data": {
      "text/plain": [
       "'\\nfor n in range(1,15):\\n    p=0\\n    eventos=np.random.poisson(1,int(N))\\n    for e in eventos:\\n        if e > n:\\n            p+=1\\n    if p/N < 0.01 and p/N != 0:    \\n        print(p/N,n)        \\n'"
      ]
     },
     "execution_count": 30,
     "metadata": {},
     "output_type": "execute_result"
    }
   ],
   "source": [
    "N=1e4\n",
    "n=0\n",
    "p=1\n",
    "eventos=np.random.poisson(1,int(N))\n",
    "while p >= 0.01:\n",
    "    p=0\n",
    "    n+=1\n",
    "    for e in eventos:\n",
    "        if e > n:\n",
    "            p+=1\n",
    "    p/=N\n",
    "print(p,n)\n",
    "print(\"El menor n es: \"+str(n))\n",
    "\"\"\"\n",
    "for n in range(1,15):\n",
    "    p=0\n",
    "    eventos=np.random.poisson(1,int(N))\n",
    "    for e in eventos:\n",
    "        if e > n:\n",
    "            p+=1\n",
    "    if p/N < 0.01 and p/N != 0:    \n",
    "        print(p/N,n)        \n",
    "\"\"\""
   ]
  },
  {
   "cell_type": "markdown",
   "metadata": {},
   "source": [
    "b) Encuentre el menor valor del número de horas h tal que la probabilidad de que no haya desconexiones\n",
    "en h horas sea menor que 0.02."
   ]
  },
  {
   "cell_type": "code",
   "execution_count": 31,
   "metadata": {},
   "outputs": [
    {
     "name": "stdout",
     "output_type": "stream",
     "text": [
      "0.0175 16\n",
      "El menor número de horas es: 16\n"
     ]
    }
   ],
   "source": [
    "N=1e4\n",
    "p=1\n",
    "h=0\n",
    "while p >= 0.02:\n",
    "    p=0\n",
    "    h+=1\n",
    "    eventos=np.random.poisson(h/4,int(N))\n",
    "    for e in eventos:\n",
    "        if e == 0:\n",
    "            p+=1\n",
    "    p/=N\n",
    "print(p,h)\n",
    "print(\"El menor número de horas es: \"+str(h))"
   ]
  },
  {
   "cell_type": "markdown",
   "metadata": {},
   "source": [
    "c) Encuentre la probabilidad de que en 3 períodos consecutivos de 4 horas, haya solamente un período\n",
    "de 4 horas sin desconexiones."
   ]
  },
  {
   "cell_type": "code",
   "execution_count": 32,
   "metadata": {},
   "outputs": [
    {
     "data": {
      "text/plain": [
       "'\\nN=1e4\\np=0\\nP=0\\neventos=np.random.poisson(1,int(N))\\n#print(eventos)\\nc=0\\nfor e in eventos:\\n    c+=1\\n    if e==0:\\n        p+=1\\n    if c==3 and p==1:\\n        P+=1\\n    if c==3:\\n        c=0\\n        p=0\\nP/=N/3\\nP\\n'"
      ]
     },
     "execution_count": 32,
     "metadata": {},
     "output_type": "execute_result"
    }
   ],
   "source": [
    "\"\"\"\n",
    "N=1e4\n",
    "p=0\n",
    "P=0\n",
    "eventos=np.random.poisson(1,int(N))\n",
    "#print(eventos)\n",
    "c=0\n",
    "for e in eventos:\n",
    "    c+=1\n",
    "    if e==0:\n",
    "        p+=1\n",
    "    if c==3 and p==1:\n",
    "        P+=1\n",
    "    if c==3:\n",
    "        c=0\n",
    "        p=0\n",
    "P/=N/3\n",
    "P\n",
    "\"\"\""
   ]
  },
  {
   "cell_type": "code",
   "execution_count": 33,
   "metadata": {},
   "outputs": [
    {
     "data": {
      "text/plain": [
       "0.4438"
      ]
     },
     "execution_count": 33,
     "metadata": {},
     "output_type": "execute_result"
    }
   ],
   "source": [
    "N=1e4\n",
    "p=0\n",
    "eventos=np.random.poisson(1,int(N))\n",
    "for e in eventos:\n",
    "    if e == 0:\n",
    "        p+=1\n",
    "p/=N #Probabilidad de un periodo sin desconexiones\n",
    "eventos=np.random.binomial(3,p,int(N))\n",
    "#print(eventos)\n",
    "p=0\n",
    "for e in eventos:\n",
    "    if e == 1:\n",
    "        p+=1\n",
    "p/N"
   ]
  },
  {
   "cell_type": "markdown",
   "metadata": {},
   "source": [
    "d) Encuentre la probabilidad de que el número de desconexiones en 3 períodos consecutivos de 4 horas\n",
    "sea igual al número esperaod de desconexiones en 3 períodos consecutivos de 4 horas."
   ]
  },
  {
   "cell_type": "code",
   "execution_count": 43,
   "metadata": {},
   "outputs": [
    {
     "data": {
      "text/plain": [
       "0.0548"
      ]
     },
     "execution_count": 43,
     "metadata": {},
     "output_type": "execute_result"
    }
   ],
   "source": [
    "N=1e4\n",
    "p=0\n",
    "desconexiones_esperadas=3\n",
    "eventos=np.random.poisson(1,int(N))\n",
    "for e in eventos:\n",
    "    if e == 0:\n",
    "        p+=1\n",
    "p/=N #Probabilidad de un periodo sin desconexiones\n",
    "eventos=np.random.binomial(3,p,int(N))\n",
    "#print(eventos)\n",
    "p=0\n",
    "for e in eventos:\n",
    "    if e == desconexiones_esperadas:\n",
    "        p+=1\n",
    "p/N"
   ]
  },
  {
   "cell_type": "markdown",
   "metadata": {},
   "source": [
    "3. Distribuciones de probabilidad continuas\n",
    "1. Suponga que el error en la temperatura en un experimento controlado de laboratorio es una variable\n",
    "aleatoria continua X, que tiene la siguiente función de densidad de probabilidad:\n",
    "f(x)=x^2/3 si -1 <= x <= 2, 0 en otro caso\n",
    "Encuentre las probabilidades:\n",
    "a) P(0 < X ≤ 1)\n",
    "b) P(1 < X ≤ 2)"
   ]
  },
  {
   "cell_type": "code",
   "execution_count": 35,
   "metadata": {},
   "outputs": [
    {
     "name": "stdout",
     "output_type": "stream",
     "text": [
      "1\n",
      "1/9\n",
      "7/9\n"
     ]
    }
   ],
   "source": [
    "x = sp.symbols('x')\n",
    "funcion = x**2/3\n",
    "a = -1\n",
    "b = 2\n",
    "integral = sp.integrate(funcion, (x, a, b))\n",
    "print(integral) #Todo el intervalo - Probabilidad = 1\n",
    "\n",
    "#a)\n",
    "a = 0\n",
    "b = 1\n",
    "integral = sp.integrate(funcion, (x, a, b))\n",
    "print(integral)\n",
    "\n",
    "#b)\n",
    "a = 1\n",
    "b = 2\n",
    "integral = sp.integrate(funcion, (x, a, b))\n",
    "print(integral)\n"
   ]
  },
  {
   "cell_type": "markdown",
   "metadata": {},
   "source": [
    "2. Se supone que las calificaciones de un examen están normalmente distribuidas con media 78 y varianza\n",
    "de 36."
   ]
  },
  {
   "cell_type": "markdown",
   "metadata": {},
   "source": [
    "a) ¿Cuál es la probabilidad de que una persona que haga el examen alcance calificaciones mayores de\n",
    "72?"
   ]
  },
  {
   "cell_type": "code",
   "execution_count": 36,
   "metadata": {},
   "outputs": [
    {
     "data": {
      "text/plain": [
       "0.84232"
      ]
     },
     "execution_count": 36,
     "metadata": {},
     "output_type": "execute_result"
    }
   ],
   "source": [
    "N=1e5\n",
    "distribucionnormal=np.random.normal(78,6,int(N))\n",
    "p=0\n",
    "for e in distribucionnormal:\n",
    "    if e > 72:\n",
    "        p+=1\n",
    "p/=N\n",
    "p"
   ]
  },
  {
   "cell_type": "markdown",
   "metadata": {},
   "source": [
    "b) Suponga que los estudiantes que alcancen el 10 % más alto de esta distribución reciben una\n",
    "calificación de A. ¿Cuál es la calificación mínima que un estudiante debe recibir para ganar una\n",
    "calificación de A?"
   ]
  },
  {
   "cell_type": "code",
   "execution_count": 37,
   "metadata": {},
   "outputs": [
    {
     "name": "stdout",
     "output_type": "stream",
     "text": [
      "0.09144 86\n",
      "La menor calificación para recibir A es: 86\n"
     ]
    }
   ],
   "source": [
    "N=1e5\n",
    "n=77 #Empezamos en la media\n",
    "p=1\n",
    "eventos=np.random.normal(78,6,int(N))\n",
    "while p >= 0.1:\n",
    "    p=0\n",
    "    n+=1\n",
    "    for e in eventos:\n",
    "        if e >= n:\n",
    "            p+=1\n",
    "    p/=N\n",
    "print(p,n)\n",
    "print(\"La menor calificación para recibir A es: \"+str(n))"
   ]
  },
  {
   "cell_type": "markdown",
   "metadata": {},
   "source": [
    "c) ¿Cuál debe ser el punto límite para pasar el examen si el examinador desea pasar a sólo 28,1 % más\n",
    "alto de todas las calificaciones?"
   ]
  },
  {
   "cell_type": "code",
   "execution_count": 38,
   "metadata": {},
   "outputs": [
    {
     "name": "stdout",
     "output_type": "stream",
     "text": [
      "0.25235 82\n",
      "La calificación límite para pasar es: 82\n"
     ]
    }
   ],
   "source": [
    "N=1e5\n",
    "n=77 #Empezamos en la media\n",
    "p=1\n",
    "eventos=np.random.normal(78,6,int(N))\n",
    "while p > 0.281:\n",
    "    p=0\n",
    "    n+=1\n",
    "    for e in eventos:\n",
    "        if e >= n:\n",
    "            p+=1\n",
    "    p/=N\n",
    "print(p,n)\n",
    "print(\"La calificación límite para pasar es: \"+str(n))"
   ]
  },
  {
   "cell_type": "markdown",
   "metadata": {},
   "source": [
    "d) Aproximadamente qué proporción de estudiantes tienen calificaciones de 5 o más puntos arriba de\n",
    "la calificación que corta al 25 % más bajo?"
   ]
  },
  {
   "cell_type": "code",
   "execution_count": 39,
   "metadata": {},
   "outputs": [
    {
     "name": "stdout",
     "output_type": "stream",
     "text": [
      "0.20027 73\n",
      "La calificación que corta al 25% más bajo es: 73\n",
      "La proporción de estudiantes es: 0.49894\n"
     ]
    }
   ],
   "source": [
    "N=1e5\n",
    "n=79 #Empezamos en la media\n",
    "p=1\n",
    "eventos=np.random.normal(78,6,int(N))\n",
    "#print(eventos)\n",
    "while p > 0.25:\n",
    "    p=0\n",
    "    n-=1\n",
    "    for e in eventos:\n",
    "        if e < n:\n",
    "            p+=1\n",
    "    p/=N\n",
    "print(p,n)\n",
    "print(\"La calificación que corta al 25% más bajo es: \"+str(n))\n",
    "p=0\n",
    "for e in eventos:\n",
    "    if e >= n+5:\n",
    "        p+=1\n",
    "p/=N\n",
    "print(\"La proporción de estudiantes es: \"+str(p))\n"
   ]
  },
  {
   "cell_type": "markdown",
   "metadata": {},
   "source": [
    "e) Si se sabe que la calificación de un estudiante excede de 72, ¿cuál es la probabilidad de que su\n",
    "calificación exceda de 84?"
   ]
  },
  {
   "cell_type": "code",
   "execution_count": 40,
   "metadata": {},
   "outputs": [
    {
     "name": "stdout",
     "output_type": "stream",
     "text": [
      "La probabilidad es: 0.18705309419170923\n"
     ]
    }
   ],
   "source": [
    "N=1e5\n",
    "p=0\n",
    "n=0\n",
    "eventos=np.random.normal(78,6,int(N))\n",
    "for e in eventos:\n",
    "    if e > 84:\n",
    "        p+=1\n",
    "    if e > 72:\n",
    "        n+=1\n",
    "print(\"La probabilidad es: \"+str(p/n))"
   ]
  },
  {
   "cell_type": "markdown",
   "metadata": {},
   "source": [
    "4. Cadenas de Markov\n",
    "\n",
    "1. Encuentre la probabilidad de obtener el gen g = [T, G, C, T, C, A, A, A]."
   ]
  },
  {
   "cell_type": "code",
   "execution_count": 41,
   "metadata": {},
   "outputs": [
    {
     "data": {
      "text/plain": [
       "7.500000000000001e-06"
      ]
     },
     "execution_count": 41,
     "metadata": {},
     "output_type": "execute_result"
    }
   ],
   "source": [
    "Dict = { 0: 'A', 1: 'C', 2:'G', 3:'T'}\n",
    "#pi=np.array([0.25,0.0,0.5,0.25])\n",
    "T=np.array([[0.4,0.25,0.3,0.1],\n",
    "            [0.2,0.25,0.3,0.1],\n",
    "            [0.2,0.25,0.1,0.1],\n",
    "            [0.2,0.25,0.3,0.7]])\n",
    "#p=1\n",
    "#g=np.array([3,2,1,3,1,0,0,0])\n",
    "#p*=pi[g[0]]\n",
    "#for i in range(1,len(g)):\n",
    "#    p*=T[g[i]][g[i-1]]\n",
    "#p #7.500000000000001e-06\n",
    "\n",
    "Prior=np.array([0.25,0.0,0.5,0.25])\n",
    "State=np.array([3,2,1,3,1,0,0,0])\n",
    "n = len(State)\n",
    "p = 1.\n",
    "   \n",
    "p *= Prior[State[0]]\n",
    "\n",
    "for i in range(n-1):\n",
    "    p *= T[ State[i+1], State[i]]\n",
    "p\n"
   ]
  },
  {
   "cell_type": "markdown",
   "metadata": {},
   "source": [
    "2. Estas bases nitrogenadas pasarán por un proceso de traducción donde el objetivo es que se traduzcan\n",
    "A − U, C − G, G − C, T − A seg´un la siguiente matriz de emisión\n",
    "Si un gen traducido está dado por gT = [A, C, G, A, G, U, U, U], ¿cuál es la probabilidad de que venga\n",
    "del gen g anterior?\n"
   ]
  },
  {
   "cell_type": "code",
   "execution_count": 42,
   "metadata": {},
   "outputs": [
    {
     "data": {
      "text/plain": [
       "1.3716864000000001e-06"
      ]
     },
     "execution_count": 42,
     "metadata": {},
     "output_type": "execute_result"
    }
   ],
   "source": [
    "Dict = { 0: 'U', 1: 'G', 2:'C', 3:'T'}\n",
    "\n",
    "E=np.array([[0.8,0.0,0.0,0.2],\n",
    "            [0.05,0.9,0.1,0.1],\n",
    "            [0.05,0.1,0.9,0.0],\n",
    "            [0.1,0.0,0.0,0.7]])\n",
    "\n",
    "#gt=np.array([3,2,1,3,1,0,0,0])\n",
    "#for i in range(0,len(g)):\n",
    "#    p*=E[gt[i]][g[i]]\n",
    "#p #1.7641789247249998e-06\n",
    "\n",
    "Obs=np.array([3,2,1,3,1,0,0,0])\n",
    "for i in range(n):\n",
    "    p *= E[Obs[i], State[i]]\n",
    "p"
   ]
  }
 ],
 "metadata": {
  "kernelspec": {
   "display_name": "Python 3",
   "language": "python",
   "name": "python3"
  },
  "language_info": {
   "codemirror_mode": {
    "name": "ipython",
    "version": 3
   },
   "file_extension": ".py",
   "mimetype": "text/x-python",
   "name": "python",
   "nbconvert_exporter": "python",
   "pygments_lexer": "ipython3",
   "version": "3.10.6"
  }
 },
 "nbformat": 4,
 "nbformat_minor": 2
}
